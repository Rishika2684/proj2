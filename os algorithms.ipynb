{
 "cells": [
  {
   "cell_type": "code",
   "execution_count": 17,
   "id": "f0cc2df8",
   "metadata": {},
   "outputs": [
    {
     "name": "stdout",
     "output_type": "stream",
     "text": [
      "  PID  AT  BT  CT  TAT  WT\n",
      "0  p1   0   2   2    2   0\n",
      "1  p2   3   4   7    4   0\n",
      "2  p3   4   3  10    6   3\n",
      "3  p4   5   3  13    8   5\n",
      "4  p5   5   1  14    9   8\n",
      "Average Waiting Time: 3.2\n",
      "Average Turnaround Time: 5.8\n"
     ]
    }
   ],
   "source": [
    "#fcfs\n",
    "import pandas as pd\n",
    "\n",
    "pid = [\"p1\", \"p2\", \"p3\", \"p4\", \"p5\"]\n",
    "at = [0, 3, 4, 5, 5]\n",
    "bt = [2, 4, 3, 3, 1]\n",
    "n = len(pid)\n",
    "for i in range(n):\n",
    "    for j in range(0,n-i-1):\n",
    "        if at[j]>at[j+1]:        \n",
    "                at[j],at[j+1]=at[j+1],at[j]\n",
    "                pid[j],pid[j+1]=pid[j+1],pid[j]\n",
    "                bt[j],bt[j+1]=bt[j+1],bt[j]\n",
    "df = pd.DataFrame({\"PID\":pid,\"AT\":at,\"BT\":bt})\n",
    "ct = []\n",
    "tat = []\n",
    "wt = []\n",
    "\n",
    "for i in range(n):\n",
    "    if i == 0:\n",
    "        ct.append(at[0] + bt[0])\n",
    "    else:\n",
    "        ct.append(bt[i] + max(ct[i - 1], at[i]))\n",
    "\n",
    "for i in range(n):\n",
    "    tat.append(ct[i] - at[i])\n",
    "    wt.append(tat[i] - bt[i])\n",
    "\n",
    "df2 = pd.DataFrame({\"PID\": pid, \"AT\": at, \"BT\": bt, \"CT\": ct, \"TAT\": tat, \"WT\": wt})\n",
    "avg_wt = sum(wt) / n\n",
    "avg_tat = sum(tat) / n\n",
    "\n",
    "print(df2) \n",
    "print(\"Average Waiting Time:\", avg_wt)\n",
    "print(\"Average Turnaround Time:\", avg_tat)\n"
   ]
  },
  {
   "cell_type": "code",
   "execution_count": 16,
   "id": "02fb96f0",
   "metadata": {},
   "outputs": [
    {
     "name": "stdout",
     "output_type": "stream",
     "text": [
      "5\n"
     ]
    }
   ],
   "source": [
    "#fifo\n",
    "from queue import Queue   \n",
    "def pageFaults(pages, n, capacity):   \n",
    "    s = set()    \n",
    "    indexes = Queue()  \n",
    "    page_faults = 0\n",
    "    for i in range(n): \n",
    "        if (len(s) < capacity): \n",
    "            if (pages[i] not in s): \n",
    "                s.add(pages[i])\n",
    "                page_faults = page_faults + 1\n",
    "                indexes.put(pages[i]) \n",
    "        else: \n",
    "            if (pages[i] not in s): \n",
    "                val = indexes.queue[0]  \n",
    "                indexes.get()  \n",
    "                s.remove(val)  \n",
    "                s.add(pages[i])  \n",
    "                indexes.put(pages[i])  \n",
    "                page_faults += 1\n",
    "    return page_faults \n",
    "  \n",
    "if __name__ == '__main__': \n",
    "    pages = [1,2,3,1,2,3,4,1,2,3,4,5]  \n",
    "    n = len(pages)  \n",
    "    capacity = 4\n",
    "    print(pageFaults(pages, n, capacity)) "
   ]
  },
  {
   "cell_type": "code",
   "execution_count": 12,
   "id": "d8e040d5",
   "metadata": {},
   "outputs": [
    {
     "name": "stdout",
     "output_type": "stream",
     "text": [
      "10\n"
     ]
    }
   ],
   "source": [
    "#lru\n",
    "capacity = 3\n",
    "processList = [1,2,3,4,1,2,5,1,2,3,4,5] \n",
    "s = []  \n",
    "  \n",
    "pageFaults = 0 \n",
    "for i in processList: \n",
    "    if i not in s: \n",
    "        if(len(s) == capacity): \n",
    "            s.remove(s[0]) \n",
    "            s.append(i) \n",
    "        else: \n",
    "            s.append(i) \n",
    "        pageFaults +=1\n",
    "    else: \n",
    "        s.remove(i) \n",
    "        s.append(i) \n",
    "print(\"{}\".format(pageFaults)) "
   ]
  },
  {
   "cell_type": "code",
   "execution_count": 21,
   "id": "1f945be6",
   "metadata": {},
   "outputs": [
    {
     "name": "stdout",
     "output_type": "stream",
     "text": [
      "7\n"
     ]
    }
   ],
   "source": [
    "#mru\n",
    "capacity = 3\n",
    "processes = [1, 2, 3, 4, 1, 2, 5, 1, 2, 3, 4, 5]\n",
    "s = []\n",
    "\n",
    "pf = 0\n",
    "for i in processes:\n",
    "    if i not in s:\n",
    "        if len(s) == capacity:\n",
    "            s.pop()  \n",
    "            s.append(i)  \n",
    "        else:\n",
    "            s.append(i)\n",
    "        pf += 1\n",
    "    else:\n",
    "        s.remove(i)  \n",
    "        s.append(i)  \n",
    "print(\"{}\".format(pf))\n",
    "\n"
   ]
  },
  {
   "cell_type": "code",
   "execution_count": 8,
   "id": "f7b14ab6",
   "metadata": {},
   "outputs": [
    {
     "name": "stdout",
     "output_type": "stream",
     "text": [
      "Total head movements: 640\n"
     ]
    }
   ],
   "source": [
    "#fcfs - ds\n",
    "def fcfs_disk_scheduling(requests, head):\n",
    "    total_head_movements = 0   \n",
    "    for request in requests:\n",
    "        total_head_movements += abs(head - request)\n",
    "        head = request\n",
    "        \n",
    "    return total_head_movements\n",
    "\n",
    "if __name__ == \"__main__\":\n",
    "    requests = [98, 183, 37, 122, 14, 124, 65, 67]  # Example disk requests\n",
    "    initial_head_position = 53  # Initial head position\n",
    "\n",
    "    total_head_movements = fcfs_disk_scheduling(requests, initial_head_position)\n",
    "\n",
    "    print(\"Total head movements:\", total_head_movements)\n",
    "   "
   ]
  },
  {
   "cell_type": "code",
   "execution_count": 3,
   "id": "f43398bb",
   "metadata": {},
   "outputs": [
    {
     "name": "stdout",
     "output_type": "stream",
     "text": [
      "Total head movement using SSTF algorithm: 236\n"
     ]
    }
   ],
   "source": [
    "#sstf - ds\n",
    "def sstf_disk_scheduling(requests, initial_position):\n",
    "    total_head_movement = 0\n",
    "    current_position = initial_position\n",
    "    while requests:\n",
    "        nearest_request = min(requests, key=lambda x: abs(x - current_position))\n",
    "        head_movement = abs(nearest_request - current_position)\n",
    "        total_head_movement += head_movement\n",
    "        current_position = nearest_request\n",
    "        requests.remove(nearest_request)\n",
    "    return total_head_movement\n",
    "if __name__ == \"__main__\":\n",
    "    disk_requests = [98, 183, 37, 122, 14, 124, 65, 67]\n",
    "    initial_head_position = 53\n",
    "    total_movement = sstf_disk_scheduling(disk_requests, initial_head_position)\n",
    "    print(\"Total head movement using SSTF algorithm:\", total_movement)"
   ]
  },
  {
   "cell_type": "code",
   "execution_count": 1,
   "id": "0fe18e1c",
   "metadata": {},
   "outputs": [
    {
     "name": "stdout",
     "output_type": "stream",
     "text": [
      "Produced: Data 0\n",
      "Consumed: Data 0\n",
      "Produced: Data 1\n",
      "Consumed: Data 1Produced: Data 2\n",
      "\n",
      "Produced: Data 3\n",
      "Consumed: Data 2\n",
      "Produced: Data 4\n",
      "Produced: Data 5\n",
      "Consumed: Data 3\n",
      "Produced: Data 6\n",
      "Produced: Data 7\n",
      "Consumed: Data 4\n",
      "Produced: Data 8\n",
      "Produced: Data 9\n",
      "Consumed: Data 5\n",
      "Consumed: Data 6\n",
      "Consumed: Data 7\n",
      "Consumed: Data 8\n",
      "Consumed: Data 9\n",
      "Program finished.\n"
     ]
    }
   ],
   "source": [
    "#producer cosumer\n",
    "import threading\n",
    "import queue\n",
    "import time\n",
    "shared_queue = queue.Queue()\n",
    "def producer():\n",
    "    for i in range(10):\n",
    "        data = f\"Data {i}\"\n",
    "        print(f\"Produced: {data}\")\n",
    "        shared_queue.put(data)\n",
    "        time.sleep(1)\n",
    "def consumer():\n",
    "    while True:\n",
    "        data = shared_queue.get()\n",
    "        print(f\"Consumed: {data}\")\n",
    "        time.sleep(2)\n",
    "        shared_queue.task_done()\n",
    "producer_thread = threading.Thread(target=producer)\n",
    "consumer_thread = threading.Thread(target=consumer)\n",
    "producer_thread.start()\n",
    "consumer_thread.start()\n",
    "producer_thread.join()\n",
    "shared_queue.join()\n",
    "print(\"Program finished.\")"
   ]
  },
  {
   "cell_type": "code",
   "execution_count": 30,
   "id": "a80fe3fa",
   "metadata": {},
   "outputs": [
    {
     "name": "stdout",
     "output_type": "stream",
     "text": [
      "   bt  wt  tat\n",
      "0   3   0    0\n",
      "1   6   3    9\n",
      "2   7   9   16\n",
      "3   8  16   24\n",
      "Average Waiting Time: 7.00\n",
      "Average Turnaround Time: 12.25\n"
     ]
    }
   ],
   "source": [
    "#sjf\n",
    "import pandas as pd\n",
    "def sjf_scheduling(burst_times):\n",
    "    n = len(burst_times)\n",
    "    burst_times.sort()\n",
    "    waiting_times = [0] * n\n",
    "    turnaround_times = [0] * n\n",
    "    \n",
    "    for i in range(1, n):\n",
    "        waiting_times[i] = waiting_times[i - 1] + burst_times[i - 1]\n",
    "        turnaround_times[i] = waiting_times[i] + burst_times[i]\n",
    "    df=pd.DataFrame({'bt':burst_times,'wt':waiting_times,'tat':turnaround_times})\n",
    "    print(df)   \n",
    "    avg_waiting_time = sum(waiting_times) / n\n",
    "    avg_turnaround_time = sum(turnaround_times) / n\n",
    "    print(f\"Average Waiting Time: {avg_waiting_time:.2f}\")\n",
    "    print(f\"Average Turnaround Time: {avg_turnaround_time:.2f}\")\n",
    "    \n",
    "# Example usage\n",
    "burst_times = [6, 8, 7, 3]\n",
    "sjf_scheduling(burst_times)\n"
   ]
  },
  {
   "cell_type": "code",
   "execution_count": null,
   "id": "7bd841f1",
   "metadata": {},
   "outputs": [],
   "source": []
  }
 ],
 "metadata": {
  "kernelspec": {
   "display_name": "Python 3 (ipykernel)",
   "language": "python",
   "name": "python3"
  },
  "language_info": {
   "codemirror_mode": {
    "name": "ipython",
    "version": 3
   },
   "file_extension": ".py",
   "mimetype": "text/x-python",
   "name": "python",
   "nbconvert_exporter": "python",
   "pygments_lexer": "ipython3",
   "version": "3.11.1"
  }
 },
 "nbformat": 4,
 "nbformat_minor": 5
}
